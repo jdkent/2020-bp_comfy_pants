{
 "cells": [
  {
   "cell_type": "markdown",
   "metadata": {},
   "source": [
    "# Final results"
   ]
  },
  {
   "cell_type": "code",
   "execution_count": 1,
   "metadata": {},
   "outputs": [],
   "source": [
    "import pandas as pd\n",
    "import pickle"
   ]
  },
  {
   "cell_type": "code",
   "execution_count": 6,
   "metadata": {},
   "outputs": [
    {
     "data": {
      "text/html": [
       "<div>\n",
       "<style scoped>\n",
       "    .dataframe tbody tr th:only-of-type {\n",
       "        vertical-align: middle;\n",
       "    }\n",
       "\n",
       "    .dataframe tbody tr th {\n",
       "        vertical-align: top;\n",
       "    }\n",
       "\n",
       "    .dataframe thead th {\n",
       "        text-align: right;\n",
       "    }\n",
       "</style>\n",
       "<table border=\"1\" class=\"dataframe\">\n",
       "  <thead>\n",
       "    <tr style=\"text-align: right;\">\n",
       "      <th></th>\n",
       "      <th>record_id</th>\n",
       "      <th>Age</th>\n",
       "      <th>Sex</th>\n",
       "      <th>Hand</th>\n",
       "      <th>allvol_unknown</th>\n",
       "      <th>allvol_ctx_rh_posterior_insula</th>\n",
       "      <th>allvol_ctx_lh_posterior_insula</th>\n",
       "      <th>allvol_ctx_rh_parietal_operculum</th>\n",
       "      <th>allvol_ctx_lh_parietal_operculum</th>\n",
       "      <th>allvol_left_lateral_ventricle</th>\n",
       "      <th>...</th>\n",
       "      <th>31p_cc_ant_gatp</th>\n",
       "      <th>31p_cc_ant_gatpr</th>\n",
       "      <th>31p_cc_ant_aatp</th>\n",
       "      <th>31p_cc_ant_aatpr</th>\n",
       "      <th>31p_l_pat_ph</th>\n",
       "      <th>31p_l_pat_pcr</th>\n",
       "      <th>31p_l_pat_gatp</th>\n",
       "      <th>31p_l_pat_gatpr</th>\n",
       "      <th>31p_l_pat_aatp</th>\n",
       "      <th>31p_l_pat_aatpr</th>\n",
       "    </tr>\n",
       "  </thead>\n",
       "  <tbody>\n",
       "    <tr>\n",
       "      <th>0</th>\n",
       "      <td>1188</td>\n",
       "      <td>62</td>\n",
       "      <td>Female</td>\n",
       "      <td>Right</td>\n",
       "      <td>5567321</td>\n",
       "      <td>1912</td>\n",
       "      <td>2069</td>\n",
       "      <td>2248</td>\n",
       "      <td>2383</td>\n",
       "      <td>180</td>\n",
       "      <td>...</td>\n",
       "      <td>NaN</td>\n",
       "      <td>NaN</td>\n",
       "      <td>NaN</td>\n",
       "      <td>NaN</td>\n",
       "      <td>NaN</td>\n",
       "      <td>NaN</td>\n",
       "      <td>NaN</td>\n",
       "      <td>NaN</td>\n",
       "      <td>NaN</td>\n",
       "      <td>NaN</td>\n",
       "    </tr>\n",
       "    <tr>\n",
       "      <th>1</th>\n",
       "      <td>1248</td>\n",
       "      <td>52</td>\n",
       "      <td>Female</td>\n",
       "      <td>Right</td>\n",
       "      <td>5877548</td>\n",
       "      <td>2468</td>\n",
       "      <td>2095</td>\n",
       "      <td>2636</td>\n",
       "      <td>2531</td>\n",
       "      <td>229</td>\n",
       "      <td>...</td>\n",
       "      <td>7791240.0</td>\n",
       "      <td>0.552266</td>\n",
       "      <td>3807530.0</td>\n",
       "      <td>0.311396</td>\n",
       "      <td>7.34786</td>\n",
       "      <td>7500230.0</td>\n",
       "      <td>6585610.0</td>\n",
       "      <td>0.538620</td>\n",
       "      <td>4439060.0</td>\n",
       "      <td>0.554594</td>\n",
       "    </tr>\n",
       "    <tr>\n",
       "      <th>2</th>\n",
       "      <td>1197</td>\n",
       "      <td>52</td>\n",
       "      <td>Female</td>\n",
       "      <td>Ambidextrous</td>\n",
       "      <td>6134859</td>\n",
       "      <td>1583</td>\n",
       "      <td>1601</td>\n",
       "      <td>1921</td>\n",
       "      <td>2591</td>\n",
       "      <td>252</td>\n",
       "      <td>...</td>\n",
       "      <td>7091470.0</td>\n",
       "      <td>0.933621</td>\n",
       "      <td>4043440.0</td>\n",
       "      <td>0.333823</td>\n",
       "      <td>7.14109</td>\n",
       "      <td>16732700.0</td>\n",
       "      <td>6694770.0</td>\n",
       "      <td>0.737140</td>\n",
       "      <td>5465680.0</td>\n",
       "      <td>0.367607</td>\n",
       "    </tr>\n",
       "    <tr>\n",
       "      <th>3</th>\n",
       "      <td>1608</td>\n",
       "      <td>27</td>\n",
       "      <td>Male</td>\n",
       "      <td>Right</td>\n",
       "      <td>6696095</td>\n",
       "      <td>3057</td>\n",
       "      <td>2857</td>\n",
       "      <td>2861</td>\n",
       "      <td>3154</td>\n",
       "      <td>251</td>\n",
       "      <td>...</td>\n",
       "      <td>5204750.0</td>\n",
       "      <td>0.494524</td>\n",
       "      <td>3032390.0</td>\n",
       "      <td>0.218201</td>\n",
       "      <td>7.15694</td>\n",
       "      <td>14720600.0</td>\n",
       "      <td>6039600.0</td>\n",
       "      <td>0.425295</td>\n",
       "      <td>3960720.0</td>\n",
       "      <td>0.275689</td>\n",
       "    </tr>\n",
       "    <tr>\n",
       "      <th>4</th>\n",
       "      <td>1987</td>\n",
       "      <td>26</td>\n",
       "      <td>Female</td>\n",
       "      <td>Left</td>\n",
       "      <td>5894652</td>\n",
       "      <td>2345</td>\n",
       "      <td>1956</td>\n",
       "      <td>2323</td>\n",
       "      <td>2397</td>\n",
       "      <td>191</td>\n",
       "      <td>...</td>\n",
       "      <td>12149900.0</td>\n",
       "      <td>1.179160</td>\n",
       "      <td>3914360.0</td>\n",
       "      <td>0.595178</td>\n",
       "      <td>7.23300</td>\n",
       "      <td>9042540.0</td>\n",
       "      <td>12212100.0</td>\n",
       "      <td>2.173140</td>\n",
       "      <td>3694640.0</td>\n",
       "      <td>0.656156</td>\n",
       "    </tr>\n",
       "  </tbody>\n",
       "</table>\n",
       "<p>5 rows × 2789 columns</p>\n",
       "</div>"
      ],
      "text/plain": [
       "   record_id  Age     Sex          Hand  allvol_unknown  \\\n",
       "0       1188   62  Female         Right         5567321   \n",
       "1       1248   52  Female         Right         5877548   \n",
       "2       1197   52  Female  Ambidextrous         6134859   \n",
       "3       1608   27    Male         Right         6696095   \n",
       "4       1987   26  Female          Left         5894652   \n",
       "\n",
       "   allvol_ctx_rh_posterior_insula  allvol_ctx_lh_posterior_insula  \\\n",
       "0                            1912                            2069   \n",
       "1                            2468                            2095   \n",
       "2                            1583                            1601   \n",
       "3                            3057                            2857   \n",
       "4                            2345                            1956   \n",
       "\n",
       "   allvol_ctx_rh_parietal_operculum  allvol_ctx_lh_parietal_operculum  \\\n",
       "0                              2248                              2383   \n",
       "1                              2636                              2531   \n",
       "2                              1921                              2591   \n",
       "3                              2861                              3154   \n",
       "4                              2323                              2397   \n",
       "\n",
       "   allvol_left_lateral_ventricle  ...  31p_cc_ant_gatp  31p_cc_ant_gatpr  \\\n",
       "0                            180  ...              NaN               NaN   \n",
       "1                            229  ...        7791240.0          0.552266   \n",
       "2                            252  ...        7091470.0          0.933621   \n",
       "3                            251  ...        5204750.0          0.494524   \n",
       "4                            191  ...       12149900.0          1.179160   \n",
       "\n",
       "   31p_cc_ant_aatp  31p_cc_ant_aatpr  31p_l_pat_ph  31p_l_pat_pcr  \\\n",
       "0              NaN               NaN           NaN            NaN   \n",
       "1        3807530.0          0.311396       7.34786      7500230.0   \n",
       "2        4043440.0          0.333823       7.14109     16732700.0   \n",
       "3        3032390.0          0.218201       7.15694     14720600.0   \n",
       "4        3914360.0          0.595178       7.23300      9042540.0   \n",
       "\n",
       "   31p_l_pat_gatp  31p_l_pat_gatpr  31p_l_pat_aatp  31p_l_pat_aatpr  \n",
       "0             NaN              NaN             NaN              NaN  \n",
       "1       6585610.0         0.538620       4439060.0         0.554594  \n",
       "2       6694770.0         0.737140       5465680.0         0.367607  \n",
       "3       6039600.0         0.425295       3960720.0         0.275689  \n",
       "4      12212100.0         2.173140       3694640.0         0.656156  \n",
       "\n",
       "[5 rows x 2789 columns]"
      ]
     },
     "execution_count": 6,
     "metadata": {},
     "output_type": "execute_result"
    }
   ],
   "source": [
    "test_df = pd.read_csv('../data/BipolarDerivedDataTesting.csv')\n",
    "test_df.head()"
   ]
  },
  {
   "cell_type": "markdown",
   "metadata": {},
   "source": [
    "### Import Kerry's model for bp prediction"
   ]
  },
  {
   "cell_type": "code",
   "execution_count": 7,
   "metadata": {},
   "outputs": [
    {
     "data": {
      "text/plain": [
       "array(['Case', 'Control', 'Case', 'Case', 'Control', 'Control', 'Control',\n",
       "       'Case', 'Case', 'Control', 'Case', 'Control', 'Case', 'Case',\n",
       "       'Case', 'Case', 'Case', 'Control', 'Case', 'Case', 'Case', 'Case',\n",
       "       'Case', 'Case', 'Case', 'Case', 'Control', 'Control', 'Control',\n",
       "       'Control', 'Control', 'Case', 'Case', 'Case', 'Case', 'Case',\n",
       "       'Case', 'Case', 'Case'], dtype=object)"
      ]
     },
     "execution_count": 7,
     "metadata": {},
     "output_type": "execute_result"
    }
   ],
   "source": [
    "with open('../models/kerry-pipeline1_prediction.pkl', 'rb') as f:\n",
    "    search = pickle.load(f)\n",
    "kerry_test_df = test_df.filter(regex=(\"t1r_.*m\"))\n",
    "pred_arr = search.predict(kerry_test_df)\n",
    "pred_arr"
   ]
  },
  {
   "cell_type": "code",
   "execution_count": 11,
   "metadata": {},
   "outputs": [
    {
     "data": {
      "text/plain": [
       "0.6923076923076923"
      ]
     },
     "execution_count": 11,
     "metadata": {},
     "output_type": "execute_result"
    }
   ],
   "source": [
    "kerry_df = pd.DataFrame()\n",
    "case_control = [1 if pred == 'Case' else 0 for pred in list(pred_arr)]\n",
    "case_control.count(1)/len(case_control)"
   ]
  },
  {
   "cell_type": "code",
   "execution_count": 14,
   "metadata": {},
   "outputs": [],
   "source": [
    "kerry_df['ID'] = test_df['record_id']\n",
    "kerry_df['case_control'] = case_control\n",
    "kerry_df.to_csv('../data/kerry-bp_hackathon_submission.txt', index=False)"
   ]
  },
  {
   "cell_type": "markdown",
   "metadata": {},
   "source": [
    "### Import James' model for bp prediction"
   ]
  },
  {
   "cell_type": "code",
   "execution_count": null,
   "metadata": {},
   "outputs": [],
   "source": []
  }
 ],
 "metadata": {
  "kernelspec": {
   "display_name": "Python [conda env:comfy_pants]",
   "language": "python",
   "name": "conda-env-comfy_pants-py"
  },
  "language_info": {
   "codemirror_mode": {
    "name": "ipython",
    "version": 3
   },
   "file_extension": ".py",
   "mimetype": "text/x-python",
   "name": "python",
   "nbconvert_exporter": "python",
   "pygments_lexer": "ipython3",
   "version": "3.7.6"
  }
 },
 "nbformat": 4,
 "nbformat_minor": 4
}
