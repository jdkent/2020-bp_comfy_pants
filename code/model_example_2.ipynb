{
 "cells": [
  {
   "cell_type": "markdown",
   "metadata": {},
   "source": [
    "This is an outline for building a neural network classifier using Tensorflow. I will likely be using the same code for a lot of the processing of the larger data set. Feel free to use what you see here to build your own models."
   ]
  },
  {
   "cell_type": "code",
   "execution_count": 3,
   "metadata": {},
   "outputs": [
    {
     "name": "stdout",
     "output_type": "stream",
     "text": [
      "      Group  Age          Sex    Handedness  MADRS  YMRS  Suicide-Attempts  \\\n",
      "0   Control   47       Female         Right      4     2                 0   \n",
      "1   Bipolar   28         Male  Ambidextrous      7    19                 0   \n",
      "2   Control   58       Female         Right      1     0                 0   \n",
      "3   Bipolar   29       Female         Right     11     7                30   \n",
      "4   Bipolar   57       Female         Right     25     0                 0   \n",
      "..      ...  ...          ...           ...    ...   ...               ...   \n",
      "86  Bipolar   28         Male         Right     30     2                 5   \n",
      "87  Bipolar   21  Transgender         Right     25     4                 0   \n",
      "88  Bipolar   37         Male         Right     23    19                 0   \n",
      "89  Control   28       Female         Right      5     1                 0   \n",
      "90  Bipolar   55       Female         Right      8     4                 1   \n",
      "\n",
      "    Anat-Exists  Func-Exists  DWI-Exists  \n",
      "0             1            1           1  \n",
      "1             1            1           1  \n",
      "2             1            1           1  \n",
      "3             1            1           1  \n",
      "4             1            1           1  \n",
      "..          ...          ...         ...  \n",
      "86            1            1           1  \n",
      "87            1            1           1  \n",
      "88            1            1           1  \n",
      "89            1            1           1  \n",
      "90            1            1           1  \n",
      "\n",
      "[91 rows x 10 columns]\n"
     ]
    }
   ],
   "source": [
    "# Read in data\n",
    "\n",
    "import pandas as pd\n",
    "\n",
    "df = pd.read_csv(\"../data/subjectInfoChallenge.csv\", delimiter=\",\")\n",
    "\n",
    "subj_id = df.loc[:, 'Subject-Id']  # Useless column for our purposes\n",
    "df = df.drop(columns='Subject-Id')\n",
    "print(df)"
   ]
  },
  {
   "cell_type": "code",
   "execution_count": 4,
   "metadata": {},
   "outputs": [
    {
     "name": "stdout",
     "output_type": "stream",
     "text": [
      "[[0, 1], [1, 0], [0, 1], [1, 0], [1, 0], [1, 0], [1, 0], [1, 0], [1, 0], [0, 1], [1, 0], [0, 1], [0, 1], [1, 0], [0, 1], [1, 0], [0, 1], [1, 0], [1, 0], [0, 1], [1, 0], [1, 0], [1, 0], [0, 1], [1, 0], [1, 0], [0, 1], [0, 1], [1, 0], [1, 0], [1, 0], [1, 0], [0, 1], [1, 0], [1, 0], [1, 0], [1, 0], [1, 0], [0, 1], [1, 0], [1, 0], [1, 0], [0, 1], [0, 1], [1, 0], [0, 1], [0, 1], [0, 1], [1, 0], [1, 0], [1, 0], [1, 0], [0, 1], [1, 0], [0, 1], [1, 0], [0, 1], [1, 0], [0, 1], [1, 0], [1, 0], [0, 1], [1, 0], [0, 1], [0, 1], [1, 0], [1, 0], [1, 0], [1, 0], [1, 0], [1, 0], [1, 0], [1, 0], [0, 1], [0, 1], [1, 0], [1, 0], [0, 1], [1, 0], [0, 1], [1, 0], [1, 0], [1, 0], [1, 0], [1, 0], [0, 1], [1, 0], [1, 0], [1, 0], [0, 1], [1, 0]] \n",
      " [[1, 0, 0], [0, 1, 0], [1, 0, 0], [1, 0, 0], [1, 0, 0], [1, 0, 0], [1, 0, 0], [0, 1, 0], [0, 1, 0], [0, 1, 0], [0, 1, 0], [1, 0, 0], [1, 0, 0], [1, 0, 0], [1, 0, 0], [1, 0, 0], [0, 1, 0], [1, 0, 0], [1, 0, 0], [0, 1, 0], [1, 0, 0], [1, 0, 0], [0, 1, 0], [1, 0, 0], [1, 0, 0], [1, 0, 0], [1, 0, 0], [1, 0, 0], [1, 0, 0], [1, 0, 0], [0, 1, 0], [0, 1, 0], [1, 0, 0], [0, 1, 0], [1, 0, 0], [0, 1, 0], [1, 0, 0], [1, 0, 0], [1, 0, 0], [1, 0, 0], [1, 0, 0], [1, 0, 0], [0, 1, 0], [1, 0, 0], [0, 1, 0], [0, 1, 0], [0, 1, 0], [0, 1, 0], [1, 0, 0], [1, 0, 0], [1, 0, 0], [0, 1, 0], [0, 1, 0], [1, 0, 0], [1, 0, 0], [0, 1, 0], [0, 1, 0], [1, 0, 0], [1, 0, 0], [1, 0, 0], [1, 0, 0], [1, 0, 0], [1, 0, 0], [1, 0, 0], [0, 1, 0], [1, 0, 0], [0, 1, 0], [1, 0, 0], [0, 1, 0], [1, 0, 0], [0, 1, 0], [0, 1, 0], [1, 0, 0], [1, 0, 0], [1, 0, 0], [0, 1, 0], [1, 0, 0], [0, 1, 0], [1, 0, 0], [0, 1, 0], [0, 1, 0], [0, 1, 0], [0, 1, 0], [1, 0, 0], [1, 0, 0], [1, 0, 0], [0, 1, 0], [0, 0, 1], [0, 1, 0], [1, 0, 0], [1, 0, 0]] \n",
      " [[0, 1, 0], [0, 0, 1], [0, 1, 0], [0, 1, 0], [0, 1, 0], [0, 1, 0], [0, 1, 0], [0, 1, 0], [0, 1, 0], [1, 0, 0], [1, 0, 0], [0, 1, 0], [0, 1, 0], [1, 0, 0], [0, 1, 0], [0, 1, 0], [0, 1, 0], [0, 1, 0], [0, 1, 0], [0, 1, 0], [0, 1, 0], [0, 1, 0], [0, 1, 0], [0, 1, 0], [0, 1, 0], [0, 1, 0], [0, 1, 0], [0, 1, 0], [0, 1, 0], [0, 1, 0], [0, 1, 0], [0, 1, 0], [0, 1, 0], [0, 1, 0], [0, 1, 0], [0, 0, 1], [0, 1, 0], [0, 1, 0], [0, 1, 0], [0, 1, 0], [0, 1, 0], [0, 1, 0], [0, 1, 0], [0, 1, 0], [0, 1, 0], [0, 1, 0], [0, 1, 0], [0, 1, 0], [0, 1, 0], [0, 1, 0], [0, 1, 0], [0, 1, 0], [0, 1, 0], [0, 1, 0], [0, 1, 0], [0, 0, 1], [0, 1, 0], [0, 1, 0], [1, 0, 0], [0, 1, 0], [0, 0, 1], [0, 1, 0], [0, 1, 0], [0, 1, 0], [1, 0, 0], [0, 1, 0], [0, 1, 0], [0, 1, 0], [0, 1, 0], [0, 1, 0], [0, 1, 0], [0, 1, 0], [0, 1, 0], [0, 1, 0], [0, 1, 0], [0, 1, 0], [0, 1, 0], [0, 1, 0], [1, 0, 0], [0, 1, 0], [0, 1, 0], [0, 1, 0], [0, 1, 0], [0, 1, 0], [0, 1, 0], [0, 1, 0], [0, 1, 0], [0, 1, 0], [0, 1, 0], [0, 1, 0], [0, 1, 0]]\n"
     ]
    }
   ],
   "source": [
    "# One-hot encoding  -- used to convert categorical data into numerical values\n",
    "\n",
    "def encode(df, dictionary, column):\n",
    "    encoded = [dictionary[val] for val in df.loc[:, column]]\n",
    "    df = df.drop(columns=column)\n",
    "    return encoded, df\n",
    "\n",
    "conv_y = {\"Bipolar\": [1,0], \"Control\": [0,1]}  # probably easier to use a single value here, see note at end\n",
    "y, df = encode(df, conv_y, \"Group\")\n",
    "\n",
    "conv_sex = {\"Female\": [1,0, 0], \"Male\": [0,1, 0], \"Transgender\": [0,0,1]}\n",
    "sex, df = encode(df, conv_sex, \"Sex\")\n",
    "\n",
    "conv_handedness = {\"Left\": [1,0, 0], \"Right\": [0,1, 0], \"Ambidextrous\": [0,0,1]}\n",
    "handedness, df = encode(df, conv_handedness, \"Handedness\")\n",
    "\n",
    "\n",
    "print(y, '\\n', sex, '\\n', handedness)"
   ]
  },
  {
   "cell_type": "code",
   "execution_count": 5,
   "metadata": {},
   "outputs": [
    {
     "name": "stdout",
     "output_type": "stream",
     "text": [
      "    Age  MADRS  YMRS  Suicide-Attempts  Anat-Exists  Func-Exists  DWI-Exists\n",
      "0    47      4     2                 0            1            1           1\n",
      "1    28      7    19                 0            1            1           1\n",
      "2    58      1     0                 0            1            1           1\n",
      "3    29     11     7                30            1            1           1\n",
      "4    57     25     0                 0            1            1           1\n",
      "..  ...    ...   ...               ...          ...          ...         ...\n",
      "86   28     30     2                 5            1            1           1\n",
      "87   21     25     4                 0            1            1           1\n",
      "88   37     23    19                 0            1            1           1\n",
      "89   28      5     1                 0            1            1           1\n",
      "90   55      8     4                 1            1            1           1\n",
      "\n",
      "[91 rows x 7 columns]\n"
     ]
    }
   ],
   "source": [
    "# Example numerical only dataframe\n",
    "\n",
    "print(df)"
   ]
  },
  {
   "cell_type": "code",
   "execution_count": 22,
   "metadata": {},
   "outputs": [
    {
     "name": "stdout",
     "output_type": "stream",
     "text": [
      "(91, 6)\n"
     ]
    }
   ],
   "source": [
    "# Convert categorical values to numpy array\n",
    "\n",
    "import numpy as np\n",
    "\n",
    "target_vals = np.array(y)\n",
    "sex_and_handedness = np.concatenate((np.array(sex), np.array(handedness)), axis=1)\n",
    "print(sex_and_handedness.shape)  # check to make sure all 91 rows are present\n",
    "\n",
    "'''\n",
    "Get rid of other non-info columns (might potentially contain info for the model but the\n",
    "goal of this exercise is to also undertand data quality) \n",
    "'''\n",
    "df = df.drop(columns=['Anat-Exists', 'Func-Exists', 'DWI-Exists'])\n",
    "training_array = np.concatenate((df.values, sex_and_handedness), axis=1)"
   ]
  },
  {
   "cell_type": "code",
   "execution_count": 40,
   "metadata": {},
   "outputs": [
    {
     "name": "stdout",
     "output_type": "stream",
     "text": [
      "[[47  4  2  0  1  0  0  0  1  0]\n",
      " [28  7 19  0  0  1  0  0  0  1]\n",
      " [58  1  0  0  1  0  0  0  1  0]\n",
      " [29 11  7 30  1  0  0  0  1  0]\n",
      " [57 25  0  0  1  0  0  0  1  0]\n",
      " [44 15 10  2  1  0  0  0  1  0]\n",
      " [47 14  8  1  1  0  0  0  1  0]\n",
      " [56  0  1  0  0  1  0  0  1  0]\n",
      " [22  2  0  0  0  1  0  0  1  0]\n",
      " [27  0  1  0  0  1  0  1  0  0]] \n",
      " [[0 1]\n",
      " [1 0]\n",
      " [0 1]\n",
      " [1 0]\n",
      " [1 0]\n",
      " [1 0]\n",
      " [1 0]\n",
      " [1 0]\n",
      " [1 0]\n",
      " [0 1]]\n"
     ]
    }
   ],
   "source": [
    "''' \n",
    "Split the data into testing and training sets\n",
    "&\n",
    "Rescale numerical data so its normalized between -1 and 1 -- this allows the\n",
    "NN to converge quicker\n",
    "'''\n",
    "\n",
    "print(training_array[:10], '\\n', target_vals[:10])\n",
    "\n",
    "from sklearn.model_selection import train_test_split\n",
    "from sklearn.preprocessing import MinMaxScaler\n",
    "\n",
    "X_train, X_test, y_train, y_test = train_test_split(training_array, target_vals,\n",
    "                                                    test_size=0.2, random_state=7)\n",
    "scaler = MinMaxScaler()\n",
    "X_train = scaler.fit_transform(X_train)\n",
    "X_test = scaler.transform(X_test)  ## ONLY fit the scaler to the training data, testing data should always be unknown to everything in the pipeline"
   ]
  },
  {
   "cell_type": "code",
   "execution_count": 175,
   "metadata": {},
   "outputs": [
    {
     "name": "stdout",
     "output_type": "stream",
     "text": [
      "[[0.5        0.875      0.68       0.03333333 1.         0.\n",
      "  0.         0.         1.         0.        ]\n",
      " [0.30434783 0.125      0.16       0.         0.         1.\n",
      "  0.         0.         1.         0.        ]\n",
      " [0.56521739 0.46875    0.4        0.06666667 1.         0.\n",
      "  0.         0.         1.         0.        ]\n",
      " [0.19565217 0.09375    0.         0.         1.         0.\n",
      "  0.         0.         1.         0.        ]\n",
      " [0.41304348 0.71875    0.76       0.         0.         1.\n",
      "  0.         0.         1.         0.        ]\n",
      " [0.17391304 0.25       0.         0.03333333 0.         1.\n",
      "  0.         0.         1.         0.        ]\n",
      " [0.80434783 0.25       0.16       0.03333333 1.         0.\n",
      "  0.         0.         1.         0.        ]\n",
      " [0.10869565 0.21875    0.16       0.         0.         1.\n",
      "  0.         0.         1.         0.        ]\n",
      " [1.         0.09375    0.04       0.03333333 0.         1.\n",
      "  0.         0.         1.         0.        ]\n",
      " [0.06521739 0.78125    0.16       0.         0.         0.\n",
      "  1.         0.         1.         0.        ]] \n",
      " [[1 0]\n",
      " [0 1]\n",
      " [1 0]\n",
      " [0 1]\n",
      " [1 0]\n",
      " [1 0]\n",
      " [1 0]\n",
      " [1 0]\n",
      " [1 0]\n",
      " [1 0]]\n",
      "Percent of Bipolar positive in training data 0.6944444444444444\n"
     ]
    }
   ],
   "source": [
    "# Show scaled values -- only x was scaled because y values are already in range [-1,1]\n",
    "\n",
    "print(X_train[:10], '\\n', y_train[:10])\n",
    "\n",
    "l = [1 for val in y_train if np.array_equal(val, np.array([1,0]))]\n",
    "\n",
    "print('Percent of Bipolar positive in training data', sum(l)/len(y_train))\n",
    "# Note if the percent of any given class is too high it can cause issues with the model"
   ]
  },
  {
   "cell_type": "code",
   "execution_count": 176,
   "metadata": {},
   "outputs": [
    {
     "name": "stdout",
     "output_type": "stream",
     "text": [
      "Model: \"sequential\"\n",
      "_________________________________________________________________\n",
      "Layer (type)                 Output Shape              Param #   \n",
      "=================================================================\n",
      "dense (Dense)                (None, 10)                110       \n",
      "_________________________________________________________________\n",
      "activation (Activation)      (None, 10)                0         \n",
      "_________________________________________________________________\n",
      "dropout (Dropout)            (None, 10)                0         \n",
      "_________________________________________________________________\n",
      "dense_1 (Dense)              (None, 10)                110       \n",
      "_________________________________________________________________\n",
      "activation_1 (Activation)    (None, 10)                0         \n",
      "_________________________________________________________________\n",
      "dense_2 (Dense)              (None, 2)                 22        \n",
      "_________________________________________________________________\n",
      "activation_2 (Activation)    (None, 2)                 0         \n",
      "=================================================================\n",
      "Total params: 242\n",
      "Trainable params: 242\n",
      "Non-trainable params: 0\n",
      "_________________________________________________________________\n"
     ]
    }
   ],
   "source": [
    "# Build a simple MLP model using keras\n",
    "\n",
    "from tensorflow import keras\n",
    "\n",
    "\n",
    "keras.backend.clear_session()\n",
    "\n",
    "model = keras.models.Sequential()\n",
    "model.add(keras.layers.Dense(X_train.shape[1], input_shape=(X_train.shape[1],)))\n",
    "model.add(keras.layers.Activation('relu'))\n",
    "model.add(keras.layers.Dropout(0.5))\n",
    "model.add(keras.layers.Dense(10))\n",
    "model.add(keras.layers.Activation('relu'))\n",
    "model.add(keras.layers.Dense(2))\n",
    "model.add(keras.layers.Activation('softmax'))\n",
    "\n",
    "model.summary()\n",
    "\n",
    "model.compile(loss='mse', optimizer=keras.optimizers.Adam(lr=0.01), metrics=['accuracy'])"
   ]
  },
  {
   "cell_type": "code",
   "execution_count": 161,
   "metadata": {},
   "outputs": [
    {
     "name": "stdout",
     "output_type": "stream",
     "text": [
      "Train on 57 samples, validate on 15 samples\n",
      "Epoch 1/100\n",
      "57/57 [==============================] - 1s 19ms/sample - loss: 0.2235 - accuracy: 0.6667 - val_loss: 0.2306 - val_accuracy: 0.6000\n",
      "Epoch 2/100\n",
      "57/57 [==============================] - 0s 516us/sample - loss: 0.2077 - accuracy: 0.6842 - val_loss: 0.2273 - val_accuracy: 0.6000\n",
      "Epoch 3/100\n",
      "57/57 [==============================] - 0s 531us/sample - loss: 0.2163 - accuracy: 0.7193 - val_loss: 0.2300 - val_accuracy: 0.6000\n",
      "Epoch 4/100\n",
      "57/57 [==============================] - 0s 705us/sample - loss: 0.2198 - accuracy: 0.7018 - val_loss: 0.2320 - val_accuracy: 0.6000\n",
      "Epoch 5/100\n",
      "57/57 [==============================] - 0s 730us/sample - loss: 0.1839 - accuracy: 0.7193 - val_loss: 0.2329 - val_accuracy: 0.6000\n",
      "Epoch 6/100\n",
      "57/57 [==============================] - 0s 735us/sample - loss: 0.2076 - accuracy: 0.7193 - val_loss: 0.2314 - val_accuracy: 0.6000\n",
      "Epoch 7/100\n",
      "57/57 [==============================] - 0s 597us/sample - loss: 0.2003 - accuracy: 0.7193 - val_loss: 0.2290 - val_accuracy: 0.6000\n",
      "Epoch 8/100\n",
      "57/57 [==============================] - 0s 728us/sample - loss: 0.1882 - accuracy: 0.7193 - val_loss: 0.2275 - val_accuracy: 0.6000\n",
      "Epoch 9/100\n",
      "57/57 [==============================] - 0s 749us/sample - loss: 0.1854 - accuracy: 0.7193 - val_loss: 0.2287 - val_accuracy: 0.6000\n",
      "Epoch 10/100\n",
      "57/57 [==============================] - 0s 781us/sample - loss: 0.1837 - accuracy: 0.7193 - val_loss: 0.2293 - val_accuracy: 0.6000\n",
      "Epoch 11/100\n",
      "57/57 [==============================] - 0s 522us/sample - loss: 0.1851 - accuracy: 0.7193 - val_loss: 0.2287 - val_accuracy: 0.6000\n",
      "Epoch 12/100\n",
      "57/57 [==============================] - 0s 557us/sample - loss: 0.1744 - accuracy: 0.7193 - val_loss: 0.2278 - val_accuracy: 0.6000\n",
      "Epoch 13/100\n",
      "57/57 [==============================] - 0s 629us/sample - loss: 0.1818 - accuracy: 0.7193 - val_loss: 0.2265 - val_accuracy: 0.6000\n",
      "Epoch 14/100\n",
      "57/57 [==============================] - 0s 669us/sample - loss: 0.1898 - accuracy: 0.7193 - val_loss: 0.2244 - val_accuracy: 0.6000\n",
      "Epoch 15/100\n",
      "57/57 [==============================] - 0s 649us/sample - loss: 0.1774 - accuracy: 0.7193 - val_loss: 0.2225 - val_accuracy: 0.6000\n",
      "Epoch 16/100\n",
      "57/57 [==============================] - 0s 511us/sample - loss: 0.1825 - accuracy: 0.7193 - val_loss: 0.2203 - val_accuracy: 0.6000\n",
      "Epoch 17/100\n",
      "57/57 [==============================] - 0s 494us/sample - loss: 0.1756 - accuracy: 0.7193 - val_loss: 0.2178 - val_accuracy: 0.6000\n",
      "Epoch 18/100\n",
      "57/57 [==============================] - 0s 763us/sample - loss: 0.1775 - accuracy: 0.7193 - val_loss: 0.2156 - val_accuracy: 0.6000\n",
      "Epoch 19/100\n",
      "57/57 [==============================] - 0s 620us/sample - loss: 0.1683 - accuracy: 0.7193 - val_loss: 0.2138 - val_accuracy: 0.6000\n",
      "Epoch 20/100\n",
      "57/57 [==============================] - 0s 498us/sample - loss: 0.1641 - accuracy: 0.7193 - val_loss: 0.2124 - val_accuracy: 0.6000\n",
      "Epoch 21/100\n",
      "57/57 [==============================] - 0s 471us/sample - loss: 0.1565 - accuracy: 0.7193 - val_loss: 0.2105 - val_accuracy: 0.6000\n",
      "Epoch 22/100\n",
      "57/57 [==============================] - 0s 255us/sample - loss: 0.1723 - accuracy: 0.7193 - val_loss: 0.2078 - val_accuracy: 0.6000\n",
      "Epoch 23/100\n",
      "57/57 [==============================] - 0s 155us/sample - loss: 0.1540 - accuracy: 0.7193 - val_loss: 0.2046 - val_accuracy: 0.6000\n",
      "Epoch 24/100\n",
      "57/57 [==============================] - 0s 137us/sample - loss: 0.1545 - accuracy: 0.7193 - val_loss: 0.2001 - val_accuracy: 0.6000\n",
      "Epoch 25/100\n",
      "57/57 [==============================] - 0s 246us/sample - loss: 0.1510 - accuracy: 0.7193 - val_loss: 0.1967 - val_accuracy: 0.6000\n",
      "Epoch 26/100\n",
      "57/57 [==============================] - 0s 677us/sample - loss: 0.1525 - accuracy: 0.7193 - val_loss: 0.1926 - val_accuracy: 0.6667\n",
      "Epoch 27/100\n",
      "57/57 [==============================] - 0s 180us/sample - loss: 0.1483 - accuracy: 0.7193 - val_loss: 0.1883 - val_accuracy: 0.6667\n",
      "Epoch 28/100\n",
      "57/57 [==============================] - 0s 151us/sample - loss: 0.1450 - accuracy: 0.7544 - val_loss: 0.1848 - val_accuracy: 0.7333\n",
      "Epoch 29/100\n",
      "57/57 [==============================] - 0s 199us/sample - loss: 0.1340 - accuracy: 0.7193 - val_loss: 0.1812 - val_accuracy: 0.6667\n",
      "Epoch 30/100\n",
      "57/57 [==============================] - 0s 175us/sample - loss: 0.1541 - accuracy: 0.7018 - val_loss: 0.1787 - val_accuracy: 0.7333\n",
      "Epoch 31/100\n",
      "57/57 [==============================] - 0s 505us/sample - loss: 0.1320 - accuracy: 0.8070 - val_loss: 0.1769 - val_accuracy: 0.7333\n",
      "Epoch 32/100\n",
      "57/57 [==============================] - 0s 312us/sample - loss: 0.1241 - accuracy: 0.7719 - val_loss: 0.1753 - val_accuracy: 0.7333\n",
      "Epoch 33/100\n",
      "57/57 [==============================] - 0s 158us/sample - loss: 0.1404 - accuracy: 0.7719 - val_loss: 0.1734 - val_accuracy: 0.6667\n",
      "Epoch 34/100\n",
      "57/57 [==============================] - 0s 186us/sample - loss: 0.1050 - accuracy: 0.8947 - val_loss: 0.1723 - val_accuracy: 0.7333\n",
      "Epoch 35/100\n",
      "57/57 [==============================] - 0s 133us/sample - loss: 0.1162 - accuracy: 0.7544 - val_loss: 0.1705 - val_accuracy: 0.7333\n",
      "Epoch 36/100\n",
      "57/57 [==============================] - 0s 496us/sample - loss: 0.1334 - accuracy: 0.7895 - val_loss: 0.1681 - val_accuracy: 0.7333\n",
      "Epoch 37/100\n",
      "57/57 [==============================] - 0s 585us/sample - loss: 0.1072 - accuracy: 0.8421 - val_loss: 0.1640 - val_accuracy: 0.7333\n",
      "Epoch 38/100\n",
      "57/57 [==============================] - 0s 550us/sample - loss: 0.1070 - accuracy: 0.8421 - val_loss: 0.1590 - val_accuracy: 0.8000\n",
      "Epoch 39/100\n",
      "57/57 [==============================] - 0s 495us/sample - loss: 0.1179 - accuracy: 0.8246 - val_loss: 0.1563 - val_accuracy: 0.8000\n",
      "Epoch 40/100\n",
      "57/57 [==============================] - 0s 763us/sample - loss: 0.1069 - accuracy: 0.8421 - val_loss: 0.1549 - val_accuracy: 0.8000\n",
      "Epoch 41/100\n",
      "57/57 [==============================] - 0s 726us/sample - loss: 0.1112 - accuracy: 0.8070 - val_loss: 0.1532 - val_accuracy: 0.8000\n",
      "Epoch 42/100\n",
      "57/57 [==============================] - 0s 556us/sample - loss: 0.1041 - accuracy: 0.7895 - val_loss: 0.1540 - val_accuracy: 0.8000\n",
      "Epoch 43/100\n",
      "57/57 [==============================] - 0s 610us/sample - loss: 0.0927 - accuracy: 0.9298 - val_loss: 0.1548 - val_accuracy: 0.8000\n",
      "Epoch 44/100\n",
      "57/57 [==============================] - 0s 890us/sample - loss: 0.0953 - accuracy: 0.8947 - val_loss: 0.1551 - val_accuracy: 0.8000\n",
      "Epoch 45/100\n",
      "57/57 [==============================] - 0s 568us/sample - loss: 0.0900 - accuracy: 0.8947 - val_loss: 0.1563 - val_accuracy: 0.8000\n",
      "Epoch 46/100\n",
      "57/57 [==============================] - 0s 820us/sample - loss: 0.1113 - accuracy: 0.8070 - val_loss: 0.1580 - val_accuracy: 0.8000\n",
      "Epoch 47/100\n",
      "57/57 [==============================] - 0s 689us/sample - loss: 0.1123 - accuracy: 0.8421 - val_loss: 0.1594 - val_accuracy: 0.8000\n",
      "Epoch 48/100\n",
      "57/57 [==============================] - 0s 539us/sample - loss: 0.0862 - accuracy: 0.8772 - val_loss: 0.1595 - val_accuracy: 0.8000\n",
      "Epoch 49/100\n",
      "57/57 [==============================] - 0s 628us/sample - loss: 0.1002 - accuracy: 0.8772 - val_loss: 0.1608 - val_accuracy: 0.8000\n",
      "Epoch 50/100\n",
      "57/57 [==============================] - 0s 645us/sample - loss: 0.0912 - accuracy: 0.8947 - val_loss: 0.1632 - val_accuracy: 0.8000\n",
      "Epoch 51/100\n",
      "57/57 [==============================] - 0s 562us/sample - loss: 0.1035 - accuracy: 0.8596 - val_loss: 0.1656 - val_accuracy: 0.8000\n",
      "Epoch 52/100\n",
      "57/57 [==============================] - 0s 809us/sample - loss: 0.1022 - accuracy: 0.8421 - val_loss: 0.1639 - val_accuracy: 0.8000\n",
      "Epoch 53/100\n",
      "57/57 [==============================] - 0s 620us/sample - loss: 0.0957 - accuracy: 0.8596 - val_loss: 0.1613 - val_accuracy: 0.8000\n",
      "Epoch 54/100\n",
      "57/57 [==============================] - 0s 549us/sample - loss: 0.1069 - accuracy: 0.8596 - val_loss: 0.1557 - val_accuracy: 0.8000\n",
      "Epoch 55/100\n",
      "57/57 [==============================] - 0s 648us/sample - loss: 0.0920 - accuracy: 0.8947 - val_loss: 0.1525 - val_accuracy: 0.7333\n",
      "Epoch 56/100\n",
      "57/57 [==============================] - 0s 670us/sample - loss: 0.0967 - accuracy: 0.8421 - val_loss: 0.1490 - val_accuracy: 0.8000\n"
     ]
    },
    {
     "name": "stdout",
     "output_type": "stream",
     "text": [
      "Epoch 57/100\n",
      "57/57 [==============================] - 0s 580us/sample - loss: 0.0835 - accuracy: 0.8772 - val_loss: 0.1453 - val_accuracy: 0.8000\n",
      "Epoch 58/100\n",
      "57/57 [==============================] - 0s 570us/sample - loss: 0.0834 - accuracy: 0.9298 - val_loss: 0.1443 - val_accuracy: 0.8000\n",
      "Epoch 59/100\n",
      "57/57 [==============================] - 0s 559us/sample - loss: 0.0886 - accuracy: 0.8772 - val_loss: 0.1435 - val_accuracy: 0.8000\n",
      "Epoch 60/100\n",
      "57/57 [==============================] - 0s 640us/sample - loss: 0.1060 - accuracy: 0.8421 - val_loss: 0.1433 - val_accuracy: 0.8000\n",
      "Epoch 61/100\n",
      "57/57 [==============================] - 0s 720us/sample - loss: 0.0901 - accuracy: 0.8947 - val_loss: 0.1404 - val_accuracy: 0.8000\n",
      "Epoch 62/100\n",
      "57/57 [==============================] - 0s 992us/sample - loss: 0.0817 - accuracy: 0.8947 - val_loss: 0.1412 - val_accuracy: 0.8000\n",
      "Epoch 63/100\n",
      "57/57 [==============================] - 0s 1ms/sample - loss: 0.0890 - accuracy: 0.8772 - val_loss: 0.1457 - val_accuracy: 0.8000\n",
      "Epoch 64/100\n",
      "57/57 [==============================] - 0s 897us/sample - loss: 0.0935 - accuracy: 0.8596 - val_loss: 0.1528 - val_accuracy: 0.8000\n",
      "Epoch 65/100\n",
      "57/57 [==============================] - 0s 914us/sample - loss: 0.1142 - accuracy: 0.8246 - val_loss: 0.1628 - val_accuracy: 0.8000\n",
      "Epoch 66/100\n",
      "57/57 [==============================] - 0s 889us/sample - loss: 0.0893 - accuracy: 0.8772 - val_loss: 0.1675 - val_accuracy: 0.7333\n",
      "Epoch 67/100\n",
      "57/57 [==============================] - 0s 859us/sample - loss: 0.0828 - accuracy: 0.8947 - val_loss: 0.1686 - val_accuracy: 0.7333\n",
      "Epoch 68/100\n",
      "57/57 [==============================] - 0s 754us/sample - loss: 0.0881 - accuracy: 0.8772 - val_loss: 0.1696 - val_accuracy: 0.7333\n",
      "Epoch 69/100\n",
      "57/57 [==============================] - 0s 990us/sample - loss: 0.0992 - accuracy: 0.8421 - val_loss: 0.1693 - val_accuracy: 0.7333\n",
      "Epoch 70/100\n",
      "57/57 [==============================] - 0s 1ms/sample - loss: 0.0827 - accuracy: 0.8947 - val_loss: 0.1683 - val_accuracy: 0.8000\n",
      "Epoch 71/100\n",
      "57/57 [==============================] - 0s 1ms/sample - loss: 0.0777 - accuracy: 0.8772 - val_loss: 0.1642 - val_accuracy: 0.8000\n",
      "Epoch 72/100\n",
      "57/57 [==============================] - 0s 913us/sample - loss: 0.0914 - accuracy: 0.8070 - val_loss: 0.1609 - val_accuracy: 0.8000\n",
      "Epoch 73/100\n",
      "57/57 [==============================] - 0s 930us/sample - loss: 0.0871 - accuracy: 0.8596 - val_loss: 0.1562 - val_accuracy: 0.8000\n",
      "Epoch 74/100\n",
      "57/57 [==============================] - 0s 814us/sample - loss: 0.0962 - accuracy: 0.8596 - val_loss: 0.1557 - val_accuracy: 0.8000\n",
      "Epoch 75/100\n",
      "57/57 [==============================] - 0s 494us/sample - loss: 0.0835 - accuracy: 0.8772 - val_loss: 0.1550 - val_accuracy: 0.8000\n",
      "Epoch 76/100\n",
      "57/57 [==============================] - 0s 762us/sample - loss: 0.0829 - accuracy: 0.8596 - val_loss: 0.1565 - val_accuracy: 0.8000\n",
      "Epoch 77/100\n",
      "57/57 [==============================] - 0s 590us/sample - loss: 0.1053 - accuracy: 0.8596 - val_loss: 0.1588 - val_accuracy: 0.8000\n",
      "Epoch 78/100\n",
      "57/57 [==============================] - 0s 854us/sample - loss: 0.0941 - accuracy: 0.8421 - val_loss: 0.1622 - val_accuracy: 0.8000\n",
      "Epoch 79/100\n",
      "57/57 [==============================] - 0s 971us/sample - loss: 0.0848 - accuracy: 0.8947 - val_loss: 0.1643 - val_accuracy: 0.8000\n",
      "Epoch 80/100\n",
      "57/57 [==============================] - 0s 989us/sample - loss: 0.0929 - accuracy: 0.8421 - val_loss: 0.1642 - val_accuracy: 0.7333\n",
      "Epoch 81/100\n",
      "57/57 [==============================] - 0s 859us/sample - loss: 0.1043 - accuracy: 0.8421 - val_loss: 0.1621 - val_accuracy: 0.8000\n",
      "Epoch 82/100\n",
      "57/57 [==============================] - 0s 862us/sample - loss: 0.0801 - accuracy: 0.8772 - val_loss: 0.1616 - val_accuracy: 0.8000\n",
      "Epoch 83/100\n",
      "57/57 [==============================] - 0s 847us/sample - loss: 0.0966 - accuracy: 0.8596 - val_loss: 0.1605 - val_accuracy: 0.8000\n",
      "Epoch 84/100\n",
      "57/57 [==============================] - 0s 760us/sample - loss: 0.0840 - accuracy: 0.8772 - val_loss: 0.1616 - val_accuracy: 0.7333\n",
      "Epoch 85/100\n",
      "57/57 [==============================] - 0s 777us/sample - loss: 0.0916 - accuracy: 0.8772 - val_loss: 0.1637 - val_accuracy: 0.7333\n",
      "Epoch 86/100\n",
      "57/57 [==============================] - 0s 902us/sample - loss: 0.0943 - accuracy: 0.8772 - val_loss: 0.1671 - val_accuracy: 0.7333\n",
      "Epoch 87/100\n",
      "57/57 [==============================] - 0s 837us/sample - loss: 0.0838 - accuracy: 0.8947 - val_loss: 0.1699 - val_accuracy: 0.7333\n",
      "Epoch 88/100\n",
      "57/57 [==============================] - 0s 796us/sample - loss: 0.0922 - accuracy: 0.8947 - val_loss: 0.1659 - val_accuracy: 0.7333\n",
      "Epoch 89/100\n",
      "57/57 [==============================] - 0s 754us/sample - loss: 0.1004 - accuracy: 0.8246 - val_loss: 0.1599 - val_accuracy: 0.7333\n",
      "Epoch 90/100\n",
      "57/57 [==============================] - 0s 765us/sample - loss: 0.0921 - accuracy: 0.8772 - val_loss: 0.1555 - val_accuracy: 0.7333\n",
      "Epoch 91/100\n",
      "57/57 [==============================] - 0s 783us/sample - loss: 0.0909 - accuracy: 0.8596 - val_loss: 0.1549 - val_accuracy: 0.8000\n",
      "Epoch 92/100\n",
      "57/57 [==============================] - 0s 764us/sample - loss: 0.0816 - accuracy: 0.8772 - val_loss: 0.1575 - val_accuracy: 0.8000\n",
      "Epoch 93/100\n",
      "57/57 [==============================] - 0s 922us/sample - loss: 0.0956 - accuracy: 0.8596 - val_loss: 0.1620 - val_accuracy: 0.7333\n",
      "Epoch 94/100\n",
      "57/57 [==============================] - 0s 1ms/sample - loss: 0.0730 - accuracy: 0.8947 - val_loss: 0.1670 - val_accuracy: 0.7333\n",
      "Epoch 95/100\n",
      "57/57 [==============================] - 0s 735us/sample - loss: 0.0977 - accuracy: 0.8596 - val_loss: 0.1710 - val_accuracy: 0.7333\n",
      "Epoch 96/100\n",
      "57/57 [==============================] - 0s 797us/sample - loss: 0.0782 - accuracy: 0.8596 - val_loss: 0.1663 - val_accuracy: 0.7333\n",
      "Epoch 97/100\n",
      "57/57 [==============================] - 0s 917us/sample - loss: 0.0885 - accuracy: 0.8947 - val_loss: 0.1629 - val_accuracy: 0.7333\n",
      "Epoch 98/100\n",
      "57/57 [==============================] - 0s 707us/sample - loss: 0.0652 - accuracy: 0.9298 - val_loss: 0.1601 - val_accuracy: 0.7333\n",
      "Epoch 99/100\n",
      "57/57 [==============================] - 0s 718us/sample - loss: 0.0796 - accuracy: 0.8947 - val_loss: 0.1525 - val_accuracy: 0.8000\n",
      "Epoch 100/100\n",
      "57/57 [==============================] - 0s 857us/sample - loss: 0.0900 - accuracy: 0.8421 - val_loss: 0.1509 - val_accuracy: 0.7333\n",
      "[[9.9957579e-01 4.2419258e-04]\n",
      " [3.8397869e-01 6.1602134e-01]\n",
      " [9.9999905e-01 9.3522050e-07]\n",
      " [1.8134791e-01 8.1865215e-01]\n",
      " [9.9936134e-01 6.3863542e-04]\n",
      " [9.5753193e-01 4.2468075e-02]\n",
      " [9.9982125e-01 1.7882000e-04]\n",
      " [2.2201417e-01 7.7798581e-01]\n",
      " [4.0548760e-01 5.9451240e-01]\n",
      " [9.8745674e-02 9.0125430e-01]\n",
      " [9.9999750e-01 2.5046361e-06]\n",
      " [4.4340983e-01 5.5659014e-01]\n",
      " [6.7654669e-01 3.2345328e-01]\n",
      " [3.8792694e-01 6.1207306e-01]\n",
      " [9.5996886e-01 4.0031120e-02]\n",
      " [1.5918551e-01 8.4081453e-01]\n",
      " [1.4846398e-01 8.5153598e-01]\n",
      " [2.7029043e-01 7.2970951e-01]\n",
      " [2.5882992e-01 7.4117005e-01]]\n"
     ]
    }
   ],
   "source": [
    "# Fit the model and check it against the test set\n",
    "\n",
    "model_fit = model.fit(X_train, y_train, epochs=100, validation_split=0.2)\n",
    "pred = model.predict(X_test)\n",
    "print(pred)  # check to make sure the model isn't predicting the same class every time"
   ]
  },
  {
   "cell_type": "code",
   "execution_count": 179,
   "metadata": {},
   "outputs": [
    {
     "name": "stdout",
     "output_type": "stream",
     "text": [
      "dict_keys(['loss', 'accuracy', 'val_loss', 'val_accuracy'])\n"
     ]
    },
    {
     "data": {
      "text/plain": [
       "Text(0, 0.5, 'Accuracy')"
      ]
     },
     "execution_count": 179,
     "metadata": {},
     "output_type": "execute_result"
    },
    {
     "data": {
      "image/png": "[encoded data removed]",
      "text/plain": [
       "<Figure size 1440x576 with 2 Axes>"
      ]
     },
     "metadata": {},
     "output_type": "display_data"
    }
   ],
   "source": [
    "# Check model loss and accuracy\n",
    "\n",
    "print(model_fit.history.keys())\n",
    "hist = model_fit.history\n",
    "\n",
    "import matplotlib.pyplot as plt\n",
    "%matplotlib inline\n",
    "\n",
    "fig = plt.figure(figsize=(20, 8))\n",
    "ax = fig.add_subplot(211)\n",
    "ax1 = fig.add_subplot(212)\n",
    "fig.patch.set_facecolor('white')\n",
    "\n",
    "ax.plot(hist['loss'], label='Training Loss')\n",
    "ax.plot(hist['val_loss'], label='Validation Loss')\n",
    "ax.legend()\n",
    "ax.set_ylim(0, .5)\n",
    "ax.set_xlabel('Epoch')\n",
    "ax.set_ylabel('Loss score')\n",
    "\n",
    "ax1.plot(hist['accuracy'], label='Training Accuracy')\n",
    "ax1.plot(hist['val_accuracy'], label='Validation Accuracy')\n",
    "ax1.legend()\n",
    "ax1.set_ylim(0, 1)\n",
    "ax1.set_xlabel('Epoch')\n",
    "ax1.set_ylabel('Accuracy')"
   ]
  },
  {
   "cell_type": "code",
   "execution_count": 170,
   "metadata": {},
   "outputs": [
    {
     "name": "stdout",
     "output_type": "stream",
     "text": [
      "accuracy on test set: 0.7894736842105263\n"
     ]
    }
   ],
   "source": [
    "pred_outcomes = [item[0] > item[1] for item in pred]\n",
    "actual_outcomes = [item[0] > item[1] for item in y_test]\n",
    "correct = [item[0] == item[1] for item in zip(pred_outcomes, actual_outcomes)]\n",
    "print('accuracy on test set:', sum(correct)/len(correct))"
   ]
  },
  {
   "cell_type": "markdown",
   "metadata": {},
   "source": [
    "The loss curve shows that the validation loss was slightly higher than the training loss which indicates that the model was overtrained a bit, but not by much since the accuracy for the training/validation sets was similar to the accuracy on the test set. Ways to improve this model would be to have more data (or to upsample bipolar negative cases since about 70% of the training set was bipolar positive cases, so the model had a slight bias towards picking positive), and increase dropout layers for generalizability (but not overdo it becuase it can impact the model negatively). AUC can also be calculated but it is a little harder to do since this model was designed to predict values for two classes. NOTE to self: the model for the big dataset should just output one value so it is easy to calculate AUC."
   ]
  }
 ],
 "metadata": {
  "kernelspec": {
   "display_name": "Python [conda env:nihack]",
   "language": "python",
   "name": "conda-env-nihack-py"
  },
  "language_info": {
   "codemirror_mode": {
    "name": "ipython",
    "version": 3
   },
   "file_extension": ".py",
   "mimetype": "text/x-python",
   "name": "python",
   "nbconvert_exporter": "python",
   "pygments_lexer": "ipython3",
   "version": "3.7.6"
  }
 },
 "nbformat": 4,
 "nbformat_minor": 2
}
