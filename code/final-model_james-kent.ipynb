{
 "cells": [
  {
   "cell_type": "code",
   "execution_count": 374,
   "metadata": {},
   "outputs": [],
   "source": [
    "import os\n",
    "import pandas as pd\n",
    "import numpy as np\n",
    "import seaborn as sns\n",
    "import matplotlib.pyplot as plt\n",
    "from mpl_toolkits.mplot3d import Axes3D\n",
    "from sklearn.experimental import enable_iterative_imputer\n",
    "from sklearn.impute import IterativeImputer\n",
    "from sklearn.pipeline import Pipeline\n",
    "from sklearn.model_selection import GridSearchCV\n",
    "from sklearn.feature_selection import SelectKBest, RFE\n",
    "from sklearn.decomposition import PCA\n",
    "from sklearn.svm import SVC, LinearSVC\n",
    "from sklearn.linear_model import LogisticRegression\n",
    "from sklearn.ensemble import VotingClassifier\n",
    "from sklearn.preprocessing import (\n",
    "    StandardScaler, label_binarize, PolynomialFeatures,\n",
    "    RobustScaler, robust_scale, quantile_transform, QuantileTransformer)\n",
    "from sklearn.compose import make_column_selector, ColumnTransformer\n",
    "from scipy.stats.mstats import winsorize\n",
    "from sklearn.calibration import CalibratedClassifierCV\n",
    "import xgboost\n",
    "from joblib import dump, load\n",
    "np.random.seed(0)  # make sure results are reproducible"
   ]
  },
  {
   "cell_type": "code",
   "execution_count": 318,
   "metadata": {
    "scrolled": true
   },
   "outputs": [
    {
     "name": "stdout",
     "output_type": "stream",
     "text": [
      "env: PATH=/home/jdkent/.conda/envs/comfy_pants/bin:/usr/local/sbin:/usr/local/bin:/usr/sbin:/usr/bin:/sbin:/bin:/opt/conda/bin\n"
     ]
    }
   ],
   "source": [
    "%env PATH=/home/jdkent/.conda/envs/comfy_pants/bin:/usr/local/sbin:/usr/local/bin:/usr/sbin:/usr/bin:/sbin:/bin:/opt/conda/bin\n"
   ]
  },
  {
   "cell_type": "code",
   "execution_count": 319,
   "metadata": {},
   "outputs": [],
   "source": [
    "TRAINING_DATA_PATH = '../data/BipolarDerivedDataTraining.csv'\n",
    "TESTING_DATA_PATH = '../data/BipolarDerivedDataTesting.csv'\n",
    "NTHREADS = 32"
   ]
  },
  {
   "cell_type": "code",
   "execution_count": 349,
   "metadata": {},
   "outputs": [],
   "source": [
    "training_X = pd.read_csv(TRAINING_DATA_PATH)\n",
    "training_y = label_binarize(pd.read_csv(TRAINING_DATA_PATH)['group'], classes=[\"Case\", \"Control\"]).squeeze()\n",
    "testing_X = pd.read_csv(TESTING_DATA_PATH)"
   ]
  },
  {
   "cell_type": "code",
   "execution_count": 350,
   "metadata": {},
   "outputs": [],
   "source": [
    "missing_cols = [\n",
    "    'ses_ladder_rung',\n",
    "    'history_smoking', 'frequency_currentsmoking',\n",
    "    'age_at_first_mood_syndrome', 'madrs_score', 'ymrs_score',\n",
    "    'suicideideation_rating_mostsevere_life',\n",
    "    'suicideideation_rating_mostsevere_1month',\n",
    "    'suicideattempts_lifetimenumber'\n",
    "]\n",
    "missing_cols.reverse()\n",
    "for col in missing_cols:\n",
    "    testing_X.insert(4, col, [\"NOT REAL\"] * testing_X.shape[0])\n",
    "testing_X.insert(1, \"group\", [\"NOT REAL\"] * testing_X.shape[0])\n",
    "testing_X.rename(columns={\"Age\": \"age\", \"Sex\": \"gender\", 'Hand': 'handedness'}, inplace=True)"
   ]
  },
  {
   "cell_type": "code",
   "execution_count": 351,
   "metadata": {
    "scrolled": true
   },
   "outputs": [
    {
     "data": {
      "text/plain": [
       "set()"
      ]
     },
     "execution_count": 351,
     "metadata": {},
     "output_type": "execute_result"
    }
   ],
   "source": [
    "set(training_X.columns) - set(testing_X.columns)"
   ]
  },
  {
   "cell_type": "code",
   "execution_count": 352,
   "metadata": {
    "scrolled": true
   },
   "outputs": [
    {
     "data": {
      "text/plain": [
       "Index(['record_id', 'group', 'age', 'gender', 'handedness', 'ses_ladder_rung',\n",
       "       'history_smoking', 'frequency_currentsmoking',\n",
       "       'age_at_first_mood_syndrome', 'madrs_score', 'ymrs_score',\n",
       "       'suicideideation_rating_mostsevere_life',\n",
       "       'suicideideation_rating_mostsevere_1month',\n",
       "       'suicideattempts_lifetimenumber', 'allvol_unknown',\n",
       "       'allvol_ctx_rh_posterior_insula', 'allvol_ctx_lh_posterior_insula'],\n",
       "      dtype='object')"
      ]
     },
     "execution_count": 352,
     "metadata": {},
     "output_type": "execute_result"
    }
   ],
   "source": [
    "training_X.columns[:17]"
   ]
  },
  {
   "cell_type": "code",
   "execution_count": 353,
   "metadata": {
    "scrolled": true
   },
   "outputs": [
    {
     "data": {
      "text/plain": [
       "Index(['record_id', 'group', 'age', 'gender', 'handedness', 'ses_ladder_rung',\n",
       "       'history_smoking', 'frequency_currentsmoking',\n",
       "       'age_at_first_mood_syndrome', 'madrs_score', 'ymrs_score',\n",
       "       'suicideideation_rating_mostsevere_life',\n",
       "       'suicideideation_rating_mostsevere_1month',\n",
       "       'suicideattempts_lifetimenumber', 'allvol_unknown',\n",
       "       'allvol_ctx_rh_posterior_insula', 'allvol_ctx_lh_posterior_insula'],\n",
       "      dtype='object')"
      ]
     },
     "execution_count": 353,
     "metadata": {},
     "output_type": "execute_result"
    }
   ],
   "source": [
    "testing_X.columns[:17]"
   ]
  },
  {
   "cell_type": "markdown",
   "metadata": {},
   "source": [
    "## Model 1 (XGBoost with feature selection)"
   ]
  },
  {
   "cell_type": "code",
   "execution_count": 321,
   "metadata": {},
   "outputs": [
    {
     "data": {
      "text/plain": [
       "1.8387096774193548"
      ]
     },
     "execution_count": 321,
     "metadata": {},
     "output_type": "execute_result"
    }
   ],
   "source": [
    "# supposedly ideal \"scale_pos_weight\"\n",
    "best_spw = (training_y == 0).sum() / training_y.sum()\n",
    "best_spw"
   ]
  },
  {
   "cell_type": "code",
   "execution_count": 322,
   "metadata": {
    "scrolled": true
   },
   "outputs": [
    {
     "name": "stderr",
     "output_type": "stream",
     "text": [
      "/home/jdkent/.conda/envs/comfy_pants/lib/python3.7/site-packages/sklearn/compose/_column_transformer.py:430: FutureWarning: Given feature/column names or counts do not match the ones for the data given during fit. This will fail from v0.24.\n",
      "  FutureWarning)\n"
     ]
    },
    {
     "data": {
      "text/plain": [
       "array([0, 0, 0, 1, 1, 0, 0, 1, 0, 1, 0, 1, 1, 0, 1, 0, 1, 1, 0, 0, 1, 0,\n",
       "       0, 0, 1, 1, 1, 0, 0, 0, 1, 1, 0, 0, 0, 0, 1, 1, 1])"
      ]
     },
     "execution_count": 322,
     "metadata": {},
     "output_type": "execute_result"
    }
   ],
   "source": [
    "np.random.seed(0) \n",
    "MODEL1 = '../models/model1-jdkent.joblib'\n",
    "OVERWRITE_MODEL1 = False\n",
    "if not os.path.isfile(MODEL1) or OVERWRITE_MODEL1:\n",
    "    os.remove(MODEL1)\n",
    "    select_data = ColumnTransformer(\n",
    "        [(\n",
    "            \"select_features\",\n",
    "            \"passthrough\", \n",
    "            make_column_selector(pattern=\"31p.*[^r]$|t1r.*_m|alff.*_m|allvol|dti\"))],\n",
    "        remainder='drop'\n",
    "    )\n",
    "\n",
    "    fix_outliers = QuantileTransformer(output_distribution='normal')\n",
    "\n",
    "    imputer = IterativeImputer(add_indicator=False,\n",
    "                               initial_strategy='median',\n",
    "                               imputation_order='random',\n",
    "                               sample_posterior=True,\n",
    "                               max_iter=50,\n",
    "                               n_nearest_features=50,\n",
    "                               random_state=42)\n",
    "\n",
    "    scaler = StandardScaler()\n",
    "    kbest = SelectKBest(k=1000)\n",
    "    pca = PCA(n_components=40, whiten=True)\n",
    "    select_pca = SelectKBest(k=5)\n",
    "    clf = xgboost.XGBClassifier(\n",
    "        n_estimators=2500, subsample=0.8, learning_rate=0.001,\n",
    "        max_depth=5, scale_pos_weight=3)\n",
    "\n",
    "\n",
    "    pipeline1 = Pipeline([(\"data\", select_data),\n",
    "                          (\"outlier\", fix_outliers),\n",
    "                          (\"imp\", imputer),\n",
    "                          (\"scaler\", scaler),\n",
    "                          (\"kbest\", kbest),\n",
    "                          (\"pca\", pca),\n",
    "                          (\"select\", select_pca),\n",
    "                          (\"clf\", clf)])\n",
    "    pipeline1.fit(training_X, training_y)\n",
    "    # write model to file\n",
    "    dump(pipeline1, MODEL1)\n",
    "else:\n",
    "    pipeline1 = load(MODEL1)\n",
    "\n",
    "prediction1 = pipeline1.predict(testing_X)\n",
    "prediction1"
   ]
  },
  {
   "cell_type": "code",
   "execution_count": 323,
   "metadata": {
    "scrolled": false
   },
   "outputs": [
    {
     "data": {
      "text/plain": [
       "18"
      ]
     },
     "metadata": {},
     "output_type": "display_data"
    },
    {
     "data": {
      "text/plain": [
       "21"
      ]
     },
     "metadata": {},
     "output_type": "display_data"
    }
   ],
   "source": [
    "# intuition on whether the model is split approx 50/50\n",
    "display((prediction1 == 1).sum())\n",
    "display((prediction1 == 0).sum())"
   ]
  },
  {
   "cell_type": "markdown",
   "metadata": {},
   "source": [
    "## Model 2 (Logistic Regression with feature selection)"
   ]
  },
  {
   "cell_type": "code",
   "execution_count": 405,
   "metadata": {
    "scrolled": true
   },
   "outputs": [
    {
     "name": "stderr",
     "output_type": "stream",
     "text": [
      "/home/jdkent/.conda/envs/comfy_pants/lib/python3.7/site-packages/sklearn/preprocessing/_data.py:2357: UserWarning: n_quantiles (1000) is greater than the total number of samples (88). n_quantiles is set to n_samples.\n",
      "  % (self.n_quantiles, n_samples))\n"
     ]
    },
    {
     "data": {
      "text/plain": [
       "array([0, 1, 1, 1, 0, 0, 1, 0, 1, 1, 0, 1, 1, 1, 1, 0, 1, 0, 0, 1, 1, 1,\n",
       "       1, 0, 1, 0, 1, 0, 0, 0, 1, 0, 0, 0, 0, 1, 1, 0, 0])"
      ]
     },
     "execution_count": 405,
     "metadata": {},
     "output_type": "execute_result"
    }
   ],
   "source": [
    "np.random.seed(0)\n",
    "MODEL2 = '../models/model2-jdkent.joblib'\n",
    "OVERWRITE_MODEL2 = True\n",
    "if not os.path.isfile(MODEL2) or OVERWRITE_MODEL2:\n",
    "    os.remove(MODEL2)\n",
    "    select_data = ColumnTransformer(\n",
    "        [(\n",
    "            \"select_features\",\n",
    "            \"passthrough\", \n",
    "            make_column_selector(pattern=\"31p.*[^r]$|t1r.*_m|alff.*_m|allvol|dti\"))],\n",
    "        remainder='drop'\n",
    "    )\n",
    "\n",
    "    fix_outliers = QuantileTransformer(output_distribution='normal')\n",
    "\n",
    "    imputer = IterativeImputer(add_indicator=False,\n",
    "                               initial_strategy='median',\n",
    "                               imputation_order='random',\n",
    "                               sample_posterior=True,\n",
    "                               max_iter=50,\n",
    "                               n_nearest_features=50,\n",
    "                               random_state=42)\n",
    "\n",
    "    scaler = StandardScaler()\n",
    "    kbest = SelectKBest(k=1000)\n",
    "    pca = PCA(n_components=40, whiten=True)\n",
    "    selector = LogisticRegression(C=1000, class_weight={0: 1, 1: 3}, random_state=42, max_iter=10000)\n",
    "\n",
    "    rfe = RFE(selector, n_features_to_select=10)\n",
    "\n",
    "    clf = LogisticRegression(C=1000, class_weight={0: 1, 1: 3}, random_state=42, max_iter=10000)\n",
    "\n",
    "    pipeline2 = Pipeline([(\"data\", select_data),\n",
    "                          (\"outliers\", fix_outliers),\n",
    "                          (\"imp\", imputer),\n",
    "                          (\"scaler\", scaler),\n",
    "                          (\"kbest\", kbest),\n",
    "                          (\"pca\", pca),\n",
    "                          (\"rfe\", rfe),\n",
    "                          (\"clf\", clf)])\n",
    "    pipeline2.fit(training_X, training_y)\n",
    "    # write model to file\n",
    "    dump(pipeline2, MODEL2)\n",
    "else:\n",
    "    pipeline2 = load(MODEL2)\n",
    "\n",
    "prediction2 = pipeline2.predict(testing_X)\n",
    "prediction2"
   ]
  },
  {
   "cell_type": "code",
   "execution_count": 406,
   "metadata": {
    "scrolled": false
   },
   "outputs": [
    {
     "data": {
      "text/plain": [
       "20"
      ]
     },
     "metadata": {},
     "output_type": "display_data"
    },
    {
     "data": {
      "text/plain": [
       "19"
      ]
     },
     "metadata": {},
     "output_type": "display_data"
    }
   ],
   "source": [
    "display((prediction2 == 1).sum())\n",
    "display((prediction2 == 0).sum())"
   ]
  },
  {
   "cell_type": "markdown",
   "metadata": {},
   "source": [
    "## Model 3 (SVM with feature selection)"
   ]
  },
  {
   "cell_type": "code",
   "execution_count": null,
   "metadata": {
    "scrolled": true
   },
   "outputs": [
    {
     "name": "stderr",
     "output_type": "stream",
     "text": [
      "/home/jdkent/.conda/envs/comfy_pants/lib/python3.7/site-packages/sklearn/preprocessing/_data.py:2357: UserWarning: n_quantiles (1000) is greater than the total number of samples (88). n_quantiles is set to n_samples.\n",
      "  % (self.n_quantiles, n_samples))\n"
     ]
    }
   ],
   "source": [
    "MODEL3 = '../models/model3-jdkent.joblib'\n",
    "OVERWRITE_MODEL3 = True\n",
    "\n",
    "if not os.path.isfile(MODEL3) or OVERWRITE_MODEL3:\n",
    "    os.remove(MODEL3)\n",
    "    select_data = ColumnTransformer(\n",
    "        [(\n",
    "            \"select_features\",\n",
    "            \"passthrough\", \n",
    "            make_column_selector(pattern=\"31p.*[^r]$|t1r.*_m|alff.*_m|allvol|dti\"))],\n",
    "        remainder='drop'\n",
    "    )\n",
    "\n",
    "    fix_outliers = QuantileTransformer(output_distribution='normal')\n",
    "\n",
    "    imputer = IterativeImputer(add_indicator=False,\n",
    "                               initial_strategy='median',\n",
    "                               imputation_order='random',\n",
    "                               sample_posterior=True,\n",
    "                               max_iter=50,\n",
    "                               n_nearest_features=50,\n",
    "                               random_state=42)\n",
    "\n",
    "    scaler = StandardScaler()\n",
    "    kbest = SelectKBest(k=1000)\n",
    "    pca = PCA(n_components=30, whiten=True)\n",
    "    selector = LinearSVC(max_iter=10000000, penalty='l2', random_state=42, C=100000,\n",
    "                   class_weight={0: 1, 1: 3})\n",
    "\n",
    "    rfe = RFE(selector, n_features_to_select=10)\n",
    "\n",
    "    clf = CalibratedClassifierCV(\n",
    "        LinearSVC(max_iter=10000000, penalty='l2', random_state=42, C=100000,\n",
    "                  class_weight={0: 1, 1: 3}))\n",
    "    \n",
    "\n",
    "    pipeline3 = Pipeline([(\"data\", select_data),\n",
    "                          (\"outliers\", fix_outliers),\n",
    "                          (\"imp\", imputer),\n",
    "                          (\"scaler\", scaler),\n",
    "                          (\"kbest\", kbest),\n",
    "                          (\"pca\", pca),\n",
    "                          (\"rfe\", rfe),\n",
    "                          (\"clf\", clf)])\n",
    "\n",
    "    pipeline3.fit(training_X, training_y)\n",
    "    \n",
    "    # write the model to file\n",
    "    dump(pipeline3, MODEL3)\n",
    "else:\n",
    "    pipeline3 = load(MODEL3)\n",
    "    \n",
    "prediction3 = pipeline3.predict(testing_X)\n",
    "prediction3"
   ]
  },
  {
   "cell_type": "code",
   "execution_count": null,
   "metadata": {},
   "outputs": [],
   "source": [
    "display((prediction3 == 1).sum())\n",
    "display((prediction3 == 0).sum())"
   ]
  },
  {
   "cell_type": "code",
   "execution_count": 402,
   "metadata": {
    "scrolled": false
   },
   "outputs": [
    {
     "name": "stderr",
     "output_type": "stream",
     "text": [
      "/home/jdkent/.conda/envs/comfy_pants/lib/python3.7/site-packages/sklearn/preprocessing/_data.py:2357: UserWarning: n_quantiles (1000) is greater than the total number of samples (88). n_quantiles is set to n_samples.\n",
      "  % (self.n_quantiles, n_samples))\n",
      "/home/jdkent/.conda/envs/comfy_pants/lib/python3.7/site-packages/sklearn/preprocessing/_data.py:2357: UserWarning: n_quantiles (1000) is greater than the total number of samples (88). n_quantiles is set to n_samples.\n",
      "  % (self.n_quantiles, n_samples))\n",
      "/home/jdkent/.conda/envs/comfy_pants/lib/python3.7/site-packages/sklearn/preprocessing/_data.py:2357: UserWarning: n_quantiles (1000) is greater than the total number of samples (88). n_quantiles is set to n_samples.\n",
      "  % (self.n_quantiles, n_samples))\n",
      "/home/jdkent/.conda/envs/comfy_pants/lib/python3.7/site-packages/sklearn/svm/_base.py:947: ConvergenceWarning: Liblinear failed to converge, increase the number of iterations.\n",
      "  \"the number of iterations.\", ConvergenceWarning)\n",
      "/home/jdkent/.conda/envs/comfy_pants/lib/python3.7/site-packages/sklearn/svm/_base.py:947: ConvergenceWarning: Liblinear failed to converge, increase the number of iterations.\n",
      "  \"the number of iterations.\", ConvergenceWarning)\n",
      "/home/jdkent/.conda/envs/comfy_pants/lib/python3.7/site-packages/sklearn/svm/_base.py:947: ConvergenceWarning: Liblinear failed to converge, increase the number of iterations.\n",
      "  \"the number of iterations.\", ConvergenceWarning)\n",
      "/home/jdkent/.conda/envs/comfy_pants/lib/python3.7/site-packages/sklearn/svm/_base.py:947: ConvergenceWarning: Liblinear failed to converge, increase the number of iterations.\n",
      "  \"the number of iterations.\", ConvergenceWarning)\n",
      "/home/jdkent/.conda/envs/comfy_pants/lib/python3.7/site-packages/sklearn/svm/_base.py:947: ConvergenceWarning: Liblinear failed to converge, increase the number of iterations.\n",
      "  \"the number of iterations.\", ConvergenceWarning)\n",
      "/home/jdkent/.conda/envs/comfy_pants/lib/python3.7/site-packages/sklearn/svm/_base.py:947: ConvergenceWarning: Liblinear failed to converge, increase the number of iterations.\n",
      "  \"the number of iterations.\", ConvergenceWarning)\n",
      "/home/jdkent/.conda/envs/comfy_pants/lib/python3.7/site-packages/sklearn/svm/_base.py:947: ConvergenceWarning: Liblinear failed to converge, increase the number of iterations.\n",
      "  \"the number of iterations.\", ConvergenceWarning)\n",
      "/home/jdkent/.conda/envs/comfy_pants/lib/python3.7/site-packages/sklearn/svm/_base.py:947: ConvergenceWarning: Liblinear failed to converge, increase the number of iterations.\n",
      "  \"the number of iterations.\", ConvergenceWarning)\n",
      "/home/jdkent/.conda/envs/comfy_pants/lib/python3.7/site-packages/sklearn/svm/_base.py:947: ConvergenceWarning: Liblinear failed to converge, increase the number of iterations.\n",
      "  \"the number of iterations.\", ConvergenceWarning)\n",
      "/home/jdkent/.conda/envs/comfy_pants/lib/python3.7/site-packages/sklearn/svm/_base.py:947: ConvergenceWarning: Liblinear failed to converge, increase the number of iterations.\n",
      "  \"the number of iterations.\", ConvergenceWarning)\n",
      "/home/jdkent/.conda/envs/comfy_pants/lib/python3.7/site-packages/sklearn/svm/_base.py:947: ConvergenceWarning: Liblinear failed to converge, increase the number of iterations.\n",
      "  \"the number of iterations.\", ConvergenceWarning)\n",
      "/home/jdkent/.conda/envs/comfy_pants/lib/python3.7/site-packages/sklearn/svm/_base.py:947: ConvergenceWarning: Liblinear failed to converge, increase the number of iterations.\n",
      "  \"the number of iterations.\", ConvergenceWarning)\n",
      "/home/jdkent/.conda/envs/comfy_pants/lib/python3.7/site-packages/sklearn/svm/_base.py:947: ConvergenceWarning: Liblinear failed to converge, increase the number of iterations.\n",
      "  \"the number of iterations.\", ConvergenceWarning)\n"
     ]
    },
    {
     "data": {
      "text/plain": [
       "array([0, 1, 0, 1, 0, 0, 1, 0, 0, 1, 0, 1, 1, 0, 1, 0, 1, 1, 0, 0, 1, 1,\n",
       "       1, 0, 1, 0, 1, 0, 0, 0, 1, 0, 0, 0, 0, 1, 1, 0, 0])"
      ]
     },
     "execution_count": 402,
     "metadata": {},
     "output_type": "execute_result"
    }
   ],
   "source": [
    "estimators = [(\"model1\", pipeline1), (\"model2\", pipeline2), (\"model3\", pipeline3)]\n",
    "vote = VotingClassifier(estimators, voting='soft')\n",
    "vote.fit(training_X, training_y)"
   ]
  },
  {
   "cell_type": "code",
   "execution_count": 403,
   "metadata": {},
   "outputs": [
    {
     "data": {
      "text/plain": [
       "16"
      ]
     },
     "metadata": {},
     "output_type": "display_data"
    },
    {
     "data": {
      "text/plain": [
       "23"
      ]
     },
     "metadata": {},
     "output_type": "display_data"
    }
   ],
   "source": [
    "all_predict = vote.predict(testing_X)\n",
    "display((all_predict == 1).sum())\n",
    "display((all_predict == 0).sum())"
   ]
  },
  {
   "cell_type": "markdown",
   "metadata": {},
   "source": [
    "## Investigate data dimensionality"
   ]
  },
  {
   "cell_type": "code",
   "execution_count": 159,
   "metadata": {},
   "outputs": [
    {
     "name": "stderr",
     "output_type": "stream",
     "text": [
      "/home/jdkent/.conda/envs/comfy_pants/lib/python3.7/site-packages/sklearn/preprocessing/_data.py:2357: UserWarning: n_quantiles (1000) is greater than the total number of samples (88). n_quantiles is set to n_samples.\n",
      "  % (self.n_quantiles, n_samples))\n"
     ]
    }
   ],
   "source": [
    "select_data = ColumnTransformer(\n",
    "    [(\n",
    "        \"select_features\",\n",
    "        \"passthrough\", \n",
    "        make_column_selector(pattern=\"31p.*[^r]$|t1r.*_m|alff.*_m|allvol|dti\"))],\n",
    "    remainder='drop'\n",
    ")\n",
    "\n",
    "fix_outliers = QuantileTransformer(output_distribution='normal')\n",
    "\n",
    "imputer = IterativeImputer(add_indicator=False,\n",
    "                           initial_strategy='median',\n",
    "                           imputation_order='random',\n",
    "                           sample_posterior=True,\n",
    "                           max_iter=10,\n",
    "                           n_nearest_features=50,\n",
    "                           random_state=42)\n",
    "\n",
    "scaler = StandardScaler()\n",
    "kbest = SelectKBest(k=1000)\n",
    "pca = PCA()\n",
    "\n",
    "pipeline_pca = Pipeline([(\"data\", select_data),\n",
    "                      (\"outliers\", fix_outliers),\n",
    "                      (\"imp\", imputer),\n",
    "                      (\"scaler\", scaler),\n",
    "                      (\"kbest\", kbest),\n",
    "                      (\"pca\", pca)])\n",
    "\n",
    "pca_res = pipeline_pca.fit_transform(training_X, training_y)\n"
   ]
  },
  {
   "cell_type": "code",
   "execution_count": 160,
   "metadata": {},
   "outputs": [],
   "source": [
    "pca_keep = pca_res[:,:-1]"
   ]
  },
  {
   "cell_type": "code",
   "execution_count": 161,
   "metadata": {},
   "outputs": [
    {
     "data": {
      "image/png": "[encoded data removed]",
      "text/plain": [
       "<Figure size 432x288 with 1 Axes>"
      ]
     },
     "metadata": {
      "needs_background": "light"
     },
     "output_type": "display_data"
    }
   ],
   "source": [
    "plt.plot(np.cumsum(pipeline_pca.named_steps['pca'].explained_variance_ratio_))\n",
    "plt.xlabel('number of components')\n",
    "plt.ylabel('cumulative explained variance');"
   ]
  },
  {
   "cell_type": "code",
   "execution_count": 162,
   "metadata": {},
   "outputs": [
    {
     "data": {
      "text/plain": [
       "SelectKBest(k='all', score_func=<function f_classif at 0x7f8f05d4edd0>)"
      ]
     },
     "execution_count": 162,
     "metadata": {},
     "output_type": "execute_result"
    }
   ],
   "source": [
    "kbest_pca = SelectKBest(k=\"all\")\n",
    "kbest_pca.fit(pca_keep, training_y)"
   ]
  },
  {
   "cell_type": "code",
   "execution_count": 163,
   "metadata": {
    "scrolled": false
   },
   "outputs": [
    {
     "data": {
      "text/plain": [
       "<BarContainer object of 87 artists>"
      ]
     },
     "execution_count": 163,
     "metadata": {},
     "output_type": "execute_result"
    },
    {
     "data": {
      "image/png": "[encoded data removed]",
      "text/plain": [
       "<Figure size 432x288 with 1 Axes>"
      ]
     },
     "metadata": {
      "needs_background": "light"
     },
     "output_type": "display_data"
    }
   ],
   "source": [
    "# indices\n",
    "X_indices = np.arange(pca_keep.shape[-1] )\n",
    "scores = -np.log10(kbest_pca.pvalues_)\n",
    "scores /= scores.max()\n",
    "plt.bar(X_indices - .45, scores, width=.2,\n",
    "        label=r'Univariate score ($-Log(p_{value})$)', color='darkorange',\n",
    "        edgecolor='black')"
   ]
  },
  {
   "cell_type": "code",
   "execution_count": 165,
   "metadata": {},
   "outputs": [],
   "source": [
    "# get the two best components\n",
    "kbest_pca.k = 2\n",
    "best_components = kbest_pca.fit_transform(pca_keep, training_y)"
   ]
  },
  {
   "cell_type": "code",
   "execution_count": 171,
   "metadata": {
    "scrolled": false
   },
   "outputs": [
    {
     "data": {
      "text/plain": [
       "<matplotlib.axes._subplots.AxesSubplot at 0x7f8e11c83110>"
      ]
     },
     "execution_count": 171,
     "metadata": {},
     "output_type": "execute_result"
    },
    {
     "data": {
      "image/png": "[encoded data removed]",
      "text/plain": [
       "<Figure size 432x288 with 1 Axes>"
      ]
     },
     "metadata": {
      "needs_background": "light"
     },
     "output_type": "display_data"
    }
   ],
   "source": [
    "sns.scatterplot(x=best_components[:,0], y=best_components[:,1], hue=training_y)"
   ]
  },
  {
   "cell_type": "code",
   "execution_count": 178,
   "metadata": {},
   "outputs": [],
   "source": [
    "indices = kbest_pca.get_support(indices=True)"
   ]
  },
  {
   "cell_type": "code",
   "execution_count": 246,
   "metadata": {},
   "outputs": [],
   "source": [
    "loadings = pipeline_pca.named_steps['pca'].components_[indices,:]"
   ]
  },
  {
   "cell_type": "code",
   "execution_count": 279,
   "metadata": {
    "scrolled": true
   },
   "outputs": [
    {
     "data": {
      "text/plain": [
       "<matplotlib.axes._subplots.AxesSubplot at 0x7f8e1122f0d0>"
      ]
     },
     "execution_count": 279,
     "metadata": {},
     "output_type": "execute_result"
    },
    {
     "data": {
      "image/png": "[encoded data removed]",
      "text/plain": [
       "<Figure size 432x288 with 1 Axes>"
      ]
     },
     "metadata": {
      "needs_background": "light"
     },
     "output_type": "display_data"
    }
   ],
   "source": [
    "sns.lineplot(x=np.arange(loadings.shape[1]), y=loadings[0,:])"
   ]
  },
  {
   "cell_type": "code",
   "execution_count": 280,
   "metadata": {},
   "outputs": [
    {
     "data": {
      "text/plain": [
       "<matplotlib.axes._subplots.AxesSubplot at 0x7f8e1104e710>"
      ]
     },
     "execution_count": 280,
     "metadata": {},
     "output_type": "execute_result"
    },
    {
     "data": {
      "image/png": "[encoded data removed]",
      "text/plain": [
       "<Figure size 432x288 with 1 Axes>"
      ]
     },
     "metadata": {
      "needs_background": "light"
     },
     "output_type": "display_data"
    }
   ],
   "source": [
    "sns.lineplot(x=np.arange(loadings.shape[1]), y=loadings[1,:])"
   ]
  },
  {
   "cell_type": "code",
   "execution_count": 249,
   "metadata": {},
   "outputs": [],
   "source": [
    "dset_idxs = pipeline_pca.named_steps['kbest'].get_support(indices=True)\n",
    "columns = training_X.columns[dset_idxs]"
   ]
  },
  {
   "cell_type": "code",
   "execution_count": 281,
   "metadata": {},
   "outputs": [],
   "source": [
    "# grab top 10 features loaded\n",
    "comp0_top = np.argpartition(np.abs(loadings[0,:]), -15)[-10:]\n",
    "# organize the features\n",
    "comp0_top = comp0_top[np.argsort(np.abs(loadings[0,:])[comp0_top])]"
   ]
  },
  {
   "cell_type": "code",
   "execution_count": 282,
   "metadata": {},
   "outputs": [],
   "source": [
    "# grab top 10 features loaded\n",
    "comp1_top = np.argpartition(np.abs(loadings[1,:]), -15)[-10:]\n",
    "# organize the features\n",
    "comp1_top = comp1_top[np.argsort(np.abs(loadings[1,:])[comp1_top])]"
   ]
  },
  {
   "cell_type": "code",
   "execution_count": 283,
   "metadata": {
    "scrolled": true
   },
   "outputs": [
    {
     "data": {
      "text/plain": [
       "Index(['allvol_wm_rh_supramarginal', '31p_r_wm_frontpole_ph',\n",
       "       '31p_crbl_verm_viii_x_ph', 'alff_ctxristhcing_m',\n",
       "       '31p_l_rosmidfront_ph', '31p_l_wm_crbl_ph', '31p_l_wm_caudmfg_ph',\n",
       "       't1r_ctxrcdlantcing_m', '31p_r_opifg_ph', '31p_l_ofug_ph'],\n",
       "      dtype='object')"
      ]
     },
     "execution_count": 283,
     "metadata": {},
     "output_type": "execute_result"
    }
   ],
   "source": [
    "columns[comp0_top]"
   ]
  },
  {
   "cell_type": "code",
   "execution_count": 284,
   "metadata": {
    "scrolled": true
   },
   "outputs": [
    {
     "data": {
      "text/plain": [
       "Index(['dti_r_sup_fofas_fa', 'alff_ctxlinfparie_m', 'dti_l_ant_corrad_km',\n",
       "       'alff_ctxlrostmidfrnt_m', 'allvol_wm_rh_entorhinal', 'alff_lsupfront_m',\n",
       "       'alff_ctxlprecuneus_m', 'dti_r_cing_gyrus_kax', 'dti_r_sup_fofas_rd',\n",
       "       'dti_r_sup_fofas_md'],\n",
       "      dtype='object')"
      ]
     },
     "execution_count": 284,
     "metadata": {},
     "output_type": "execute_result"
    }
   ],
   "source": [
    "columns[comp1_top]"
   ]
  },
  {
   "cell_type": "markdown",
   "metadata": {},
   "source": [
    "### MISC"
   ]
  },
  {
   "cell_type": "code",
   "execution_count": 390,
   "metadata": {
    "scrolled": true
   },
   "outputs": [
    {
     "name": "stderr",
     "output_type": "stream",
     "text": [
      "/home/jdkent/.conda/envs/comfy_pants/lib/python3.7/site-packages/sklearn/compose/_column_transformer.py:430: FutureWarning: Given feature/column names or counts do not match the ones for the data given during fit. This will fail from v0.24.\n",
      "  FutureWarning)\n"
     ]
    }
   ],
   "source": [
    "prob1 = pipeline1.predict_proba(testing_X) \n",
    "prob2 = pipeline2.predict_proba(testing_X) \n",
    "prob3 = pipeline3.predict_proba(testing_X)"
   ]
  }
 ],
 "metadata": {
  "kernelspec": {
   "display_name": "comfy_pants",
   "language": "python",
   "name": "comfy_pants"
  },
  "language_info": {
   "codemirror_mode": {
    "name": "ipython",
    "version": 3
   },
   "file_extension": ".py",
   "mimetype": "text/x-python",
   "name": "python",
   "nbconvert_exporter": "python",
   "pygments_lexer": "ipython3",
   "version": "3.7.6"
  }
 },
 "nbformat": 4,
 "nbformat_minor": 4
}
